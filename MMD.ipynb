{
 "cells": [
  {
   "cell_type": "code",
   "execution_count": null,
   "source": [
    "import numpy as np\r\n",
    "from scipy.linalg import eigh\r\n",
    "from sklearn.metrics.pairwise import pairwise_kernels\r\n",
    "from sklearn.preprocessing import StandardScaler"
   ],
   "outputs": [],
   "metadata": {}
  },
  {
   "cell_type": "code",
   "execution_count": null,
   "source": [
    "class TCA:\r\n",
    "    def __init__(self, kernel='linear', n_components=2, mu=1.0, gamma=1.0):\r\n",
    "        self.kernel = kernel\r\n",
    "        self.n_components = n_components\r\n",
    "        self.mu = mu\r\n",
    "        self.gamma = gamma\r\n",
    "\r\n",
    "    def fit(self, X_source, X_target):\r\n",
    "        # 标准化数据\r\n",
    "        scaler = StandardScaler()\r\n",
    "        X_source = scaler.fit_transform(X_source)\r\n",
    "        X_target = scaler.transform(X_target)\r\n",
    "\r\n",
    "        # 计算源域和目标域的核矩阵\r\n",
    "        K_source = pairwise_kernels(X_source, metric=self.kernel)\r\n",
    "        K_target = pairwise_kernels(X_target, metric=self.kernel)\r\n",
    "\r\n",
    "        # 计算中心矩阵\r\n",
    "        J = np.eye(K_source.shape[0]) - np.ones(K_source.shape) / K_source.shape[0]\r\n",
    "        J_prime = np.eye(K_target.shape[0]) - np.ones(K_target.shape) / K_target.shape[0]\r\n",
    "\r\n",
    "        # 计算TCA的最优特征变换\r\n",
    "        M = np.dot(np.dot(K_source.T, J), K_source) + self.mu * K_target + self.gamma * np.dot(np.dot(K_target.T, J_prime), K_target)\r\n",
    "        _, V = eigh(M, eigvals=(M.shape[0] - self.n_components, M.shape[0] - 1))\r\n",
    "\r\n",
    "        # 设置特征变换矩阵\r\n",
    "        self.components_ = V.T\r\n",
    "\r\n",
    "    def transform(self, X):\r\n",
    "        # 标准化数据\r\n",
    "        X = StandardScaler().fit_transform(X)\r\n",
    "\r\n",
    "        # 计算核矩阵\r\n",
    "        K = pairwise_kernels(X, metric=self.kernel)\r\n",
    "\r\n",
    "        # 使用TCA的特征变换将数据映射到共享的特征空间\r\n",
    "        X_transformed = np.dot(K, self.components_.T)\r\n",
    "\r\n",
    "        return X_transformed"
   ],
   "outputs": [],
   "metadata": {}
  },
  {
   "cell_type": "code",
   "execution_count": null,
   "source": [
    "import numpy as np\r\n",
    "from sklearn.datasets import make_classification\r\n",
    "from sklearn.model_selection import train_test_split\r\n",
    "from sklearn.svm import SVC\r\n",
    "from sklearn.metrics import accuracy_score\r\n",
    "from sklearn.preprocessing import StandardScaler\r\n",
    "from sklearn.decomposition import PCA\r\n",
    "import matplotlib.pyplot as plt\r\n",
    "#from mpl_toolkits.mplot3d import Axes3D"
   ],
   "outputs": [],
   "metadata": {}
  },
  {
   "cell_type": "code",
   "execution_count": null,
   "source": [
    "# 生成源域数据和目标域数据\r\n",
    "X_source, y_source = make_classification(n_samples=100, n_features=20, n_informative=10, n_classes=2, random_state=1)\r\n",
    "X_target, y_target = make_classification(n_samples=100, n_features=20, n_informative=10, n_classes=2, random_state=2)"
   ],
   "outputs": [],
   "metadata": {}
  },
  {
   "cell_type": "code",
   "execution_count": null,
   "source": [
    "# 划分训练集和测试集\r\n",
    "X_source_train, X_source_test, y_source_train, y_source_test = train_test_split(X_source, y_source, test_size=0.2, random_state=1)\r\n",
    "X_target_train, X_target_test, y_target_train, y_target_test = train_test_split(X_target, y_target, test_size=0.2, random_state=2)\r\n",
    "\r\n",
    "# 特征预处理\r\n",
    "scaler = StandardScaler()\r\n",
    "X_source_train = scaler.fit_transform(X_source_train)\r\n",
    "X_source_test = scaler.transform(X_source_test)\r\n",
    "X_target_train = scaler.fit_transform(X_target_train)\r\n",
    "X_target_test = scaler.transform(X_target_test)"
   ],
   "outputs": [],
   "metadata": {}
  },
  {
   "cell_type": "code",
   "execution_count": null,
   "source": [
    "X_source_train"
   ],
   "outputs": [],
   "metadata": {}
  },
  {
   "cell_type": "code",
   "execution_count": null,
   "source": [
    "# 使用PCA进行可视化（仅用于二维或三维特征空间）\r\n",
    "pca = PCA(n_components=2)\r\n",
    "X_source_pca = pca.fit_transform(X_source_train)\r\n",
    "X_target_pca = pca.transform(X_target_train)\r\n"
   ],
   "outputs": [],
   "metadata": {}
  },
  {
   "cell_type": "code",
   "execution_count": null,
   "source": [
    "# 可视化源域数据和目标域数据\r\n",
    "plt.scatter(X_source_pca[:, 0], X_source_pca[:, 1], c=y_source_train, marker='o', label='Source Domain')\r\n",
    "plt.scatter(X_target_pca[:, 0], X_target_pca[:, 1], c=y_target_train, marker='x', label='Target Domain')\r\n",
    "plt.xlabel('Principal Component 1')\r\n",
    "plt.ylabel('Principal Component 2')\r\n",
    "plt.legend()\r\n",
    "plt.show()"
   ],
   "outputs": [],
   "metadata": {}
  },
  {
   "cell_type": "code",
   "execution_count": null,
   "source": [
    "# 使用TCA进行特征转换\r\n",
    "tca = TCA(kernel='linear', n_components=2, mu=1.0, gamma=1.0)\r\n",
    "tca.fit(X_source_train, X_target_train)\r\n"
   ],
   "outputs": [],
   "metadata": {}
  },
  {
   "cell_type": "code",
   "execution_count": null,
   "source": [
    "X_target_train"
   ],
   "outputs": [],
   "metadata": {}
  },
  {
   "cell_type": "code",
   "execution_count": null,
   "source": [
    "X_source_tca = tca.transform(X_source_train)\r\n",
    "X_target_tca = tca.transform(X_target_train)"
   ],
   "outputs": [],
   "metadata": {}
  },
  {
   "cell_type": "code",
   "execution_count": null,
   "source": [
    "\r\n",
    "# 可视化TCA转换后的源域数据和目标域数据\r\n",
    "plt.scatter(X_source_tca[:, 0], X_source_tca[:, 1], c=y_source_train, marker='o', label='Source Domain (TCA)')\r\n",
    "plt.scatter(X_target_tca[:, 0], X_target_tca[:, 1], c=y_target_train, marker='x', label='Target Domain (TCA)')\r\n",
    "plt.xlabel('Component 1')\r\n",
    "plt.ylabel('Component 2')\r\n",
    "plt.legend()\r\n",
    "plt.show()\r\n",
    "\r\n",
    "# 在转换后的特征空间上训练分类器\r\n",
    "svm = SVC()\r\n",
    "svm.fit(X_source_tca, y_source_train)\r\n"
   ],
   "outputs": [],
   "metadata": {}
  },
  {
   "cell_type": "code",
   "execution_count": null,
   "source": [
    "X_source_tca.shape"
   ],
   "outputs": [],
   "metadata": {}
  },
  {
   "cell_type": "code",
   "execution_count": null,
   "source": [
    "X_source_train.shape"
   ],
   "outputs": [],
   "metadata": {}
  },
  {
   "cell_type": "code",
   "execution_count": null,
   "source": [
    "X_source_test.shape"
   ],
   "outputs": [],
   "metadata": {}
  },
  {
   "cell_type": "code",
   "execution_count": null,
   "source": [
    "\r\n",
    "# 在转换后的特征空间上进行预测\r\n",
    "X_source_test_tca = tca.transform(X_source_test)\r\n",
    "X_target_test_tca = tca.transform(X_target_test)\r\n",
    "y_source_pred = svm.predict(X_source_test)\r\n",
    "y_target_pred = svm.predict(X_target_test)\r\n",
    "\r\n",
    "# 计算准确率\r\n",
    "accuracy_source = accuracy_score(y_source_test, y_source_pred)\r\n",
    "accuracy_target = accuracy_score(y_target_test, y_target_pred)\r\n",
    "print(\"Accuracy on source domain: {:.2f}\".format(accuracy_source))\r\n",
    "print(\"Accuracy on target domain: {:.2f}\".format(accuracy_target))"
   ],
   "outputs": [],
   "metadata": {}
  }
 ],
 "metadata": {
  "orig_nbformat": 4,
  "language_info": {
   "name": "python",
   "version": "3.9.13",
   "mimetype": "text/x-python",
   "codemirror_mode": {
    "name": "ipython",
    "version": 3
   },
   "pygments_lexer": "ipython3",
   "nbconvert_exporter": "python",
   "file_extension": ".py"
  },
  "kernelspec": {
   "name": "python3",
   "display_name": "Python 3.9.13 64-bit ('base': conda)"
  },
  "interpreter": {
   "hash": "53f0ad3498b68e4237000d81a871a68f882dbb82639ef27455debb4e645e93f0"
  }
 },
 "nbformat": 4,
 "nbformat_minor": 2
}